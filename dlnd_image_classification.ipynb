{
 "cells": [
  {
   "cell_type": "markdown",
   "metadata": {
    "collapsed": true,
    "deletable": true,
    "editable": true
   },
   "source": [
    "# Image Classification\n",
    "In this project, you'll classify images from the [CIFAR-10 dataset](https://www.cs.toronto.edu/~kriz/cifar.html).  The dataset consists of airplanes, dogs, cats, and other objects. You'll preprocess the images, then train a convolutional neural network on all the samples. The images need to be normalized and the labels need to be one-hot encoded.  You'll get to apply what you learned and build a convolutional, max pooling, dropout, and fully connected layers.  At the end, you'll get to see your neural network's predictions on the sample images.\n",
    "## Get the Data\n",
    "Run the following cell to download the [CIFAR-10 dataset for python](https://www.cs.toronto.edu/~kriz/cifar-10-python.tar.gz)."
   ]
  },
  {
   "cell_type": "code",
   "execution_count": 187,
   "metadata": {
    "collapsed": false,
    "deletable": true,
    "editable": true
   },
   "outputs": [
    {
     "name": "stdout",
     "output_type": "stream",
     "text": [
      "All files found!\n"
     ]
    }
   ],
   "source": [
    "\"\"\"\n",
    "DON'T MODIFY ANYTHING IN THIS CELL THAT IS BELOW THIS LINE\n",
    "\"\"\"\n",
    "from urllib.request import urlretrieve\n",
    "from os.path import isfile, isdir\n",
    "from tqdm import tqdm\n",
    "import problem_unittests as tests\n",
    "import tarfile\n",
    "\n",
    "cifar10_dataset_folder_path = 'cifar-10-batches-py'\n",
    "\n",
    "class DLProgress(tqdm):\n",
    "    last_block = 0\n",
    "\n",
    "    def hook(self, block_num=1, block_size=1, total_size=None):\n",
    "        self.total = total_size\n",
    "        self.update((block_num - self.last_block) * block_size)\n",
    "        self.last_block = block_num\n",
    "\n",
    "if not isfile('cifar-10-python.tar.gz'):\n",
    "    with DLProgress(unit='B', unit_scale=True, miniters=1, desc='CIFAR-10 Dataset') as pbar:\n",
    "        urlretrieve(\n",
    "            'https://www.cs.toronto.edu/~kriz/cifar-10-python.tar.gz',\n",
    "            'cifar-10-python.tar.gz',\n",
    "            pbar.hook)\n",
    "\n",
    "if not isdir(cifar10_dataset_folder_path):\n",
    "    with tarfile.open('cifar-10-python.tar.gz') as tar:\n",
    "        tar.extractall()\n",
    "        tar.close()\n",
    "\n",
    "\n",
    "tests.test_folder_path(cifar10_dataset_folder_path)"
   ]
  },
  {
   "cell_type": "markdown",
   "metadata": {
    "deletable": true,
    "editable": true
   },
   "source": [
    "## Explore the Data\n",
    "The dataset is broken into batches to prevent your machine from running out of memory.  The CIFAR-10 dataset consists of 5 batches, named `data_batch_1`, `data_batch_2`, etc.. Each batch contains the labels and images that are one of the following:\n",
    "* airplane\n",
    "* automobile\n",
    "* bird\n",
    "* cat\n",
    "* deer\n",
    "* dog\n",
    "* frog\n",
    "* horse\n",
    "* ship\n",
    "* truck\n",
    "\n",
    "Understanding a dataset is part of making predictions on the data.  Play around with the code cell below by changing the `batch_id` and `sample_id`. The `batch_id` is the id for a batch (1-5). The `sample_id` is the id for a image and label pair in the batch.\n",
    "\n",
    "Ask yourself \"What are all possible labels?\", \"What is the range of values for the image data?\", \"Are the labels in order or random?\".  Answers to questions like these will help you preprocess the data and end up with better predictions."
   ]
  },
  {
   "cell_type": "code",
   "execution_count": 188,
   "metadata": {
    "collapsed": false,
    "deletable": true,
    "editable": true
   },
   "outputs": [
    {
     "name": "stdout",
     "output_type": "stream",
     "text": [
      "\n",
      "Stats of batch 3:\n",
      "Samples: 10000\n",
      "Label Counts: {0: 994, 1: 1042, 2: 965, 3: 997, 4: 990, 5: 1029, 6: 978, 7: 1015, 8: 961, 9: 1029}\n",
      "First 20 Labels: [8, 5, 0, 6, 9, 2, 8, 3, 6, 2, 7, 4, 6, 9, 0, 0, 7, 3, 7, 2]\n",
      "\n",
      "Example of Image 5:\n",
      "Image - Min Value: 9 Max Value: 255\n",
      "Image - Shape: (32, 32, 3)\n",
      "Label - Label Id: 2 Name: bird\n"
     ]
    },
    {
     "data": {
      "image/png": "[encoded data removed]",
      "text/plain": [
       "<matplotlib.figure.Figure at 0x7feb2a7d5828>"
      ]
     },
     "metadata": {
      "image/png": {
       "height": 250,
       "width": 253
      }
     },
     "output_type": "display_data"
    }
   ],
   "source": [
    "%matplotlib inline\n",
    "%config InlineBackend.figure_format = 'retina'\n",
    "\n",
    "import helper\n",
    "import numpy as np\n",
    "\n",
    "# Explore the dataset\n",
    "batch_id = 3\n",
    "sample_id = 5\n",
    "helper.display_stats(cifar10_dataset_folder_path, batch_id, sample_id)"
   ]
  },
  {
   "cell_type": "markdown",
   "metadata": {
    "deletable": true,
    "editable": true
   },
   "source": [
    "## Implement Preprocess Functions\n",
    "### Normalize\n",
    "In the cell below, implement the `normalize` function to take in image data, `x`, and return it as a normalized Numpy array. The values should be in the range of 0 to 1, inclusive.  The return object should be the same shape as `x`."
   ]
  },
  {
   "cell_type": "code",
   "execution_count": 189,
   "metadata": {
    "collapsed": false,
    "deletable": true,
    "editable": true
   },
   "outputs": [
    {
     "name": "stdout",
     "output_type": "stream",
     "text": [
      "Tests Passed\n"
     ]
    }
   ],
   "source": [
    "def normalize(x):\n",
    "    \"\"\"\n",
    "    Normalize a list of sample image data in the range of 0 to 1\n",
    "    : x: List of image data.  The image shape is (32, 32, 3)\n",
    "    : return: Numpy array of normalize data\n",
    "    \"\"\"\n",
    "    return np.array(x/255.)\n",
    "\n",
    "\n",
    "\"\"\"\n",
    "DON'T MODIFY ANYTHING IN THIS CELL THAT IS BELOW THIS LINE\n",
    "\"\"\"\n",
    "tests.test_normalize(normalize)"
   ]
  },
  {
   "cell_type": "markdown",
   "metadata": {
    "deletable": true,
    "editable": true
   },
   "source": [
    "### One-hot encode\n",
    "Just like the previous code cell, you'll be implementing a function for preprocessing.  This time, you'll implement the `one_hot_encode` function. The input, `x`, are a list of labels.  Implement the function to return the list of labels as One-Hot encoded Numpy array.  The possible values for labels are 0 to 9. The one-hot encoding function should return the same encoding for each value between each call to `one_hot_encode`.  Make sure to save the map of encodings outside the function.\n",
    "\n",
    "Hint: Don't reinvent the wheel."
   ]
  },
  {
   "cell_type": "code",
   "execution_count": 190,
   "metadata": {
    "collapsed": false,
    "deletable": true,
    "editable": true
   },
   "outputs": [
    {
     "name": "stdout",
     "output_type": "stream",
     "text": [
      "Tests Passed\n"
     ]
    }
   ],
   "source": [
    "def one_hot_encode(x):\n",
    "    \"\"\"\n",
    "    One hot encode a list of sample labels. Return a one-hot encoded vector for each label.\n",
    "    : x: List of sample Labels\n",
    "    : return: Numpy array of one-hot encoded labels\n",
    "    \"\"\"\n",
    "    return np.eye(10)[x]\n",
    "\n",
    "\n",
    "\"\"\"\n",
    "DON'T MODIFY ANYTHING IN THIS CELL THAT IS BELOW THIS LINE\n",
    "\"\"\"\n",
    "tests.test_one_hot_encode(one_hot_encode)"
   ]
  },
  {
   "cell_type": "markdown",
   "metadata": {
    "deletable": true,
    "editable": true
   },
   "source": [
    "### Randomize Data\n",
    "As you saw from exploring the data above, the order of the samples are randomized.  It doesn't hurt to randomize it again, but you don't need to for this dataset."
   ]
  },
  {
   "cell_type": "markdown",
   "metadata": {
    "deletable": true,
    "editable": true
   },
   "source": [
    "## Preprocess all the data and save it\n",
    "Running the code cell below will preprocess all the CIFAR-10 data and save it to file. The code below also uses 10% of the training data for validation."
   ]
  },
  {
   "cell_type": "code",
   "execution_count": 191,
   "metadata": {
    "collapsed": false,
    "deletable": true,
    "editable": true
   },
   "outputs": [],
   "source": [
    "\"\"\"\n",
    "DON'T MODIFY ANYTHING IN THIS CELL\n",
    "\"\"\"\n",
    "# Preprocess Training, Validation, and Testing Data\n",
    "helper.preprocess_and_save_data(cifar10_dataset_folder_path, normalize, one_hot_encode)"
   ]
  },
  {
   "cell_type": "markdown",
   "metadata": {
    "deletable": true,
    "editable": true
   },
   "source": [
    "# Check Point\n",
    "This is your first checkpoint.  If you ever decide to come back to this notebook or have to restart the notebook, you can start from here.  The preprocessed data has been saved to disk."
   ]
  },
  {
   "cell_type": "code",
   "execution_count": 192,
   "metadata": {
    "collapsed": true,
    "deletable": true,
    "editable": true
   },
   "outputs": [],
   "source": [
    "\"\"\"\n",
    "DON'T MODIFY ANYTHING IN THIS CELL\n",
    "\"\"\"\n",
    "import pickle\n",
    "import problem_unittests as tests\n",
    "import helper\n",
    "\n",
    "# Load the Preprocessed Validation data\n",
    "valid_features, valid_labels = pickle.load(open('preprocess_validation.p', mode='rb'))"
   ]
  },
  {
   "cell_type": "markdown",
   "metadata": {
    "deletable": true,
    "editable": true
   },
   "source": [
    "## Build the network\n",
    "For the neural network, you'll build each layer into a function.  Most of the code you've seen has been outside of functions. To test your code more thoroughly, we require that you put each layer in a function.  This allows us to give you better feedback and test for simple mistakes using our unittests before you submit your project.\n",
    "\n",
    ">**Note:** If you're finding it hard to dedicate enough time for this course each week, we've provided a small shortcut to this part of the project. In the next couple of problems, you'll have the option to use classes from the [TensorFlow Layers](https://www.tensorflow.org/api_docs/python/tf/layers) or [TensorFlow Layers (contrib)](https://www.tensorflow.org/api_guides/python/contrib.layers) packages to build each layer, except the layers you build in the \"Convolutional and Max Pooling Layer\" section.  TF Layers is similar to Keras's and TFLearn's abstraction to layers, so it's easy to pickup.\n",
    "\n",
    ">However, if you would like to get the most out of this course, try to solve all the problems _without_ using anything from the TF Layers packages. You **can** still use classes from other packages that happen to have the same name as ones you find in TF Layers! For example, instead of using the TF Layers version of the `conv2d` class, [tf.layers.conv2d](https://www.tensorflow.org/api_docs/python/tf/layers/conv2d), you would want to use the TF Neural Network version of `conv2d`, [tf.nn.conv2d](https://www.tensorflow.org/api_docs/python/tf/nn/conv2d). \n",
    "\n",
    "Let's begin!\n",
    "\n",
    "### Input\n",
    "The neural network needs to read the image data, one-hot encoded labels, and dropout keep probability. Implement the following functions\n",
    "* Implement `neural_net_image_input`\n",
    " * Return a [TF Placeholder](https://www.tensorflow.org/api_docs/python/tf/placeholder)\n",
    " * Set the shape using `image_shape` with batch size set to `None`.\n",
    " * Name the TensorFlow placeholder \"x\" using the TensorFlow `name` parameter in the [TF Placeholder](https://www.tensorflow.org/api_docs/python/tf/placeholder).\n",
    "* Implement `neural_net_label_input`\n",
    " * Return a [TF Placeholder](https://www.tensorflow.org/api_docs/python/tf/placeholder)\n",
    " * Set the shape using `n_classes` with batch size set to `None`.\n",
    " * Name the TensorFlow placeholder \"y\" using the TensorFlow `name` parameter in the [TF Placeholder](https://www.tensorflow.org/api_docs/python/tf/placeholder).\n",
    "* Implement `neural_net_keep_prob_input`\n",
    " * Return a [TF Placeholder](https://www.tensorflow.org/api_docs/python/tf/placeholder) for dropout keep probability.\n",
    " * Name the TensorFlow placeholder \"keep_prob\" using the TensorFlow `name` parameter in the [TF Placeholder](https://www.tensorflow.org/api_docs/python/tf/placeholder).\n",
    "\n",
    "These names will be used at the end of the project to load your saved model.\n",
    "\n",
    "Note: `None` for shapes in TensorFlow allow for a dynamic size."
   ]
  },
  {
   "cell_type": "code",
   "execution_count": 193,
   "metadata": {
    "collapsed": false,
    "deletable": true,
    "editable": true
   },
   "outputs": [
    {
     "name": "stdout",
     "output_type": "stream",
     "text": [
      "Image Input Tests Passed.\n",
      "Label Input Tests Passed.\n",
      "Keep Prob Tests Passed.\n"
     ]
    }
   ],
   "source": [
    "import tensorflow as tf\n",
    "\n",
    "def neural_net_image_input(image_shape):\n",
    "    \"\"\"\n",
    "    Return a Tensor for a bach of image input\n",
    "    : image_shape: Shape of the images\n",
    "    : return: Tensor for image input.\n",
    "    \"\"\"\n",
    "    shape = [None,] + list(image_shape)\n",
    "    return tf.placeholder(tf.float32, shape=shape, name='x')\n",
    "\n",
    "\n",
    "def neural_net_label_input(n_classes):\n",
    "    \"\"\"\n",
    "    Return a Tensor for a batch of label input\n",
    "    : n_classes: Number of classes\n",
    "    : return: Tensor for label input.\n",
    "    \"\"\"\n",
    "    shape = [None, n_classes]\n",
    "    return tf.placeholder(tf.float32, shape=shape, name='y')\n",
    "\n",
    "\n",
    "def neural_net_keep_prob_input():\n",
    "    \"\"\"\n",
    "    Return a Tensor for keep probability\n",
    "    : return: Tensor for keep probability.\n",
    "    \"\"\"\n",
    "    return tf.placeholder(tf.float32, name='keep_prob')\n",
    "\n",
    "\n",
    "\"\"\"\n",
    "DON'T MODIFY ANYTHING IN THIS CELL THAT IS BELOW THIS LINE\n",
    "\"\"\"\n",
    "tf.reset_default_graph()\n",
    "tests.test_nn_image_inputs(neural_net_image_input)\n",
    "tests.test_nn_label_inputs(neural_net_label_input)\n",
    "tests.test_nn_keep_prob_inputs(neural_net_keep_prob_input)"
   ]
  },
  {
   "cell_type": "markdown",
   "metadata": {
    "deletable": true,
    "editable": true
   },
   "source": [
    "### Convolution and Max Pooling Layer\n",
    "Convolution layers have a lot of success with images. For this code cell, you should implement the function `conv2d_maxpool` to apply convolution then max pooling:\n",
    "* Create the weight and bias using `conv_ksize`, `conv_num_outputs` and the shape of `x_tensor`.\n",
    "* Apply a convolution to `x_tensor` using weight and `conv_strides`.\n",
    " * We recommend you use same padding, but you're welcome to use any padding.\n",
    "* Add bias\n",
    "* Add a nonlinear activation to the convolution.\n",
    "* Apply Max Pooling using `pool_ksize` and `pool_strides`.\n",
    " * We recommend you use same padding, but you're welcome to use any padding.\n",
    "\n",
    "**Note:** You **can't** use [TensorFlow Layers](https://www.tensorflow.org/api_docs/python/tf/layers) or [TensorFlow Layers (contrib)](https://www.tensorflow.org/api_guides/python/contrib.layers) for **this** layer, but you can still use TensorFlow's [Neural Network](https://www.tensorflow.org/api_docs/python/tf/nn) package. You may still use the shortcut option for all the **other** layers."
   ]
  },
  {
   "cell_type": "code",
   "execution_count": 259,
   "metadata": {
    "collapsed": false,
    "deletable": true,
    "editable": true
   },
   "outputs": [
    {
     "name": "stdout",
     "output_type": "stream",
     "text": [
      "Tests Passed\n"
     ]
    }
   ],
   "source": [
    "def conv2d_maxpool(x_tensor, conv_num_outputs, conv_ksize, conv_strides, pool_ksize, pool_strides):\n",
    "    \"\"\"\n",
    "    Apply convolution then max pooling to x_tensor\n",
    "    :param x_tensor: TensorFlow Tensor\n",
    "    :param conv_num_outputs: Number of outputs for the convolutional layer\n",
    "    :param conv_ksize: kernal size 2-D Tuple for the convolutional layer\n",
    "    :param conv_strides: Stride 2-D Tuple for convolution\n",
    "    :param pool_ksize: kernal size 2-D Tuple for pool\n",
    "    :param pool_strides: Stride 2-D Tuple for pool\n",
    "    : return: A tensor that represents convolution and max pooling of x_tensor\n",
    "    \"\"\"\n",
    "    filter_size_height, filter_size_width = conv_ksize\n",
    "    image_depth = x_tensor.get_shape().as_list()[3]\n",
    "    \n",
    "    weight = tf.Variable(tf.truncated_normal(\n",
    "        [filter_size_height, filter_size_width, image_depth, conv_num_outputs],\n",
    "        stddev=0.1    \n",
    "    ))\n",
    "    \n",
    "    bias = tf.Variable(tf.zeros(conv_num_outputs))\n",
    "    \n",
    "    conv_strides = [1] + list(conv_strides) + [1]\n",
    "\n",
    "    conv_layer = tf.nn.conv2d(x_tensor, weight, strides=conv_strides, padding='SAME')\n",
    "    \n",
    "    conv_layer = tf.nn.bias_add(conv_layer, bias)\n",
    "    \n",
    "    conv_layer = tf.nn.relu(conv_layer)\n",
    "    \n",
    "    pool_ksize = [1] + list(pool_ksize) + [1]\n",
    "    pool_strides = [1] + list(pool_strides) + [1]\n",
    "    \n",
    "    return tf.nn.max_pool(conv_layer,ksize=pool_ksize,strides=pool_strides, padding='SAME')\n",
    "\n",
    "\n",
    "\"\"\"\n",
    "DON'T MODIFY ANYTHING IN THIS CELL THAT IS BELOW THIS LINE\n",
    "\"\"\"\n",
    "tests.test_con_pool(conv2d_maxpool)"
   ]
  },
  {
   "cell_type": "markdown",
   "metadata": {
    "deletable": true,
    "editable": true
   },
   "source": [
    "### Flatten Layer\n",
    "Implement the `flatten` function to change the dimension of `x_tensor` from a 4-D tensor to a 2-D tensor.  The output should be the shape (*Batch Size*, *Flattened Image Size*). Shortcut option: you can use classes from the [TensorFlow Layers](https://www.tensorflow.org/api_docs/python/tf/layers) or [TensorFlow Layers (contrib)](https://www.tensorflow.org/api_guides/python/contrib.layers) packages for this layer. For more of a challenge, only use other TensorFlow packages."
   ]
  },
  {
   "cell_type": "code",
   "execution_count": 260,
   "metadata": {
    "collapsed": false,
    "deletable": true,
    "editable": true
   },
   "outputs": [
    {
     "name": "stdout",
     "output_type": "stream",
     "text": [
      "Tests Passed\n"
     ]
    }
   ],
   "source": [
    "def flatten(x_tensor):\n",
    "    \"\"\"\n",
    "    Flatten x_tensor to (Batch Size, Flattened Image Size)\n",
    "    : x_tensor: A tensor of size (Batch Size, ...), where ... are the image dimensions.\n",
    "    : return: A tensor of size (Batch Size, Flattened Image Size).\n",
    "    \"\"\"\n",
    "    shape = x_tensor.get_shape().as_list()\n",
    "    widht, height, depth = shape[1], shape[2], shape[3]\n",
    "    return tf.reshape(x_tensor, [-1, widht * height * depth])\n",
    "\n",
    "\n",
    "\"\"\"\n",
    "DON'T MODIFY ANYTHING IN THIS CELL THAT IS BELOW THIS LINE\n",
    "\"\"\"\n",
    "tests.test_flatten(flatten)"
   ]
  },
  {
   "cell_type": "markdown",
   "metadata": {
    "deletable": true,
    "editable": true
   },
   "source": [
    "### Fully-Connected Layer\n",
    "Implement the `fully_conn` function to apply a fully connected layer to `x_tensor` with the shape (*Batch Size*, *num_outputs*). Shortcut option: you can use classes from the [TensorFlow Layers](https://www.tensorflow.org/api_docs/python/tf/layers) or [TensorFlow Layers (contrib)](https://www.tensorflow.org/api_guides/python/contrib.layers) packages for this layer. For more of a challenge, only use other TensorFlow packages."
   ]
  },
  {
   "cell_type": "code",
   "execution_count": 261,
   "metadata": {
    "collapsed": false,
    "deletable": true,
    "editable": true
   },
   "outputs": [
    {
     "name": "stdout",
     "output_type": "stream",
     "text": [
      "Tests Passed\n"
     ]
    }
   ],
   "source": [
    "def fully_conn(x_tensor, num_outputs):\n",
    "    \"\"\"\n",
    "    Apply a fully connected layer to x_tensor using weight and bias\n",
    "    : x_tensor: A 2-D tensor where the first dimension is batch size.\n",
    "    : num_outputs: The number of output that the new tensor should be.\n",
    "    : return: A 2-D tensor where the second dimension is num_outputs.\n",
    "    \"\"\"\n",
    "    return tf.layers.dense(inputs=x_tensor, units=num_outputs, activation=tf.nn.relu)\n",
    "\n",
    "\n",
    "\"\"\"\n",
    "DON'T MODIFY ANYTHING IN THIS CELL THAT IS BELOW THIS LINE\n",
    "\"\"\"\n",
    "tests.test_fully_conn(fully_conn)"
   ]
  },
  {
   "cell_type": "markdown",
   "metadata": {
    "deletable": true,
    "editable": true
   },
   "source": [
    "### Output Layer\n",
    "Implement the `output` function to apply a fully connected layer to `x_tensor` with the shape (*Batch Size*, *num_outputs*). Shortcut option: you can use classes from the [TensorFlow Layers](https://www.tensorflow.org/api_docs/python/tf/layers) or [TensorFlow Layers (contrib)](https://www.tensorflow.org/api_guides/python/contrib.layers) packages for this layer. For more of a challenge, only use other TensorFlow packages.\n",
    "\n",
    "**Note:** Activation, softmax, or cross entropy should **not** be applied to this."
   ]
  },
  {
   "cell_type": "code",
   "execution_count": 262,
   "metadata": {
    "collapsed": false,
    "deletable": true,
    "editable": true
   },
   "outputs": [
    {
     "name": "stdout",
     "output_type": "stream",
     "text": [
      "Tests Passed\n"
     ]
    }
   ],
   "source": [
    "def output(x_tensor, num_outputs):\n",
    "    \"\"\"\n",
    "    Apply a output layer to x_tensor using weight and bias\n",
    "    : x_tensor: A 2-D tensor where the first dimension is batch size.\n",
    "    : num_outputs: The number of output that the new tensor should be.\n",
    "    : return: A 2-D tensor where the second dimension is num_outputs.\n",
    "    \"\"\"\n",
    "    return tf.layers.dense(inputs=x_tensor, units=num_outputs, activation=tf.nn.relu)\n",
    "\n",
    "\n",
    "\"\"\"\n",
    "DON'T MODIFY ANYTHING IN THIS CELL THAT IS BELOW THIS LINE\n",
    "\"\"\"\n",
    "tests.test_output(output)"
   ]
  },
  {
   "cell_type": "markdown",
   "metadata": {
    "deletable": true,
    "editable": true
   },
   "source": [
    "### Create Convolutional Model\n",
    "Implement the function `conv_net` to create a convolutional neural network model. The function takes in a batch of images, `x`, and outputs logits.  Use the layers you created above to create this model:\n",
    "\n",
    "* Apply 1, 2, or 3 Convolution and Max Pool layers\n",
    "* Apply a Flatten Layer\n",
    "* Apply 1, 2, or 3 Fully Connected Layers\n",
    "* Apply an Output Layer\n",
    "* Return the output\n",
    "* Apply [TensorFlow's Dropout](https://www.tensorflow.org/api_docs/python/tf/nn/dropout) to one or more layers in the model using `keep_prob`. "
   ]
  },
  {
   "cell_type": "code",
   "execution_count": 296,
   "metadata": {
    "collapsed": false,
    "deletable": true,
    "editable": true
   },
   "outputs": [
    {
     "name": "stdout",
     "output_type": "stream",
     "text": [
      "Neural Network Built!\n"
     ]
    }
   ],
   "source": [
    "def conv_net(x, keep_prob):\n",
    "    \"\"\"\n",
    "    Create a convolutional neural network model\n",
    "    : x: Placeholder tensor that holds image data.\n",
    "    : keep_prob: Placeholder tensor that hold dropout keep probability.\n",
    "    : return: Tensor that represents logits\n",
    "    \"\"\"\n",
    "    conv_ksize = (2,2)\n",
    "    conv_strides = (2,2)\n",
    "    pool_ksize = (2,2)\n",
    "    pool_strides = (2,2)\n",
    "    conv_num_outputs = 10\n",
    "    \n",
    "    # TODO: Apply 1, 2, or 3 Convolution and Max Pool layers\n",
    "    #    Play around with different number of outputs, kernel size and stride\n",
    "    # Function Definition from Above:\n",
    "    #    conv2d_maxpool(x_tensor, conv_num_outputs, conv_ksize, conv_strides, pool_ksize, pool_strides)\n",
    "    neural_network = conv2d_maxpool(x, 30, conv_ksize, conv_strides, pool_ksize, pool_strides)\n",
    "    neural_network = conv2d_maxpool(neural_network, 100, conv_ksize, conv_strides, pool_ksize, pool_strides)\n",
    "\n",
    "\n",
    "    # TODO: Apply a Flatten Layer\n",
    "    # Function Definition from Above:\n",
    "    #   flatten(x_tensor)\n",
    "    neural_network = flatten(neural_network)\n",
    "    \n",
    "    # TODO: Apply 1, 2, or 3 Fully Connected Layers\n",
    "    #    Play around with different number of outputs\n",
    "    # Function Definition from Above:\n",
    "    #   fully_conn(x_tensor, num_outputs)\n",
    "    neural_network = fully_conn(neural_network, 300)\n",
    "    neural_network = tf.nn.dropout(neural_network, keep_prob)\n",
    "    \n",
    "    # TODO: Apply an Output Layer\n",
    "    #    Set this to the number of classes\n",
    "    # Function Definition from Above:\n",
    "    #   output(x_tensor, num_outputs)\n",
    "    \n",
    "    # TODO: return output\n",
    "    return output(neural_network, conv_num_outputs)\n",
    "\n",
    "\n",
    "\"\"\"\n",
    "DON'T MODIFY ANYTHING IN THIS CELL THAT IS BELOW THIS LINE\n",
    "\"\"\"\n",
    "\n",
    "##############################\n",
    "## Build the Neural Network ##\n",
    "##############################\n",
    "\n",
    "# Remove previous weights, bias, inputs, etc..\n",
    "tf.reset_default_graph()\n",
    "\n",
    "# Inputs\n",
    "x = neural_net_image_input((32, 32, 3))\n",
    "y = neural_net_label_input(10)\n",
    "keep_prob = neural_net_keep_prob_input()\n",
    "\n",
    "# Model\n",
    "logits = conv_net(x, keep_prob)\n",
    "\n",
    "# Name logits Tensor, so that is can be loaded from disk after training\n",
    "logits = tf.identity(logits, name='logits')\n",
    "\n",
    "# Loss and Optimizer\n",
    "cost = tf.reduce_mean(tf.nn.softmax_cross_entropy_with_logits(logits=logits, labels=y))\n",
    "optimizer = tf.train.AdamOptimizer().minimize(cost)\n",
    "\n",
    "# Accuracy\n",
    "correct_pred = tf.equal(tf.argmax(logits, 1), tf.argmax(y, 1))\n",
    "accuracy = tf.reduce_mean(tf.cast(correct_pred, tf.float32), name='accuracy')\n",
    "\n",
    "tests.test_conv_net(conv_net)"
   ]
  },
  {
   "cell_type": "markdown",
   "metadata": {
    "deletable": true,
    "editable": true
   },
   "source": [
    "## Train the Neural Network\n",
    "### Single Optimization\n",
    "Implement the function `train_neural_network` to do a single optimization.  The optimization should use `optimizer` to optimize in `session` with a `feed_dict` of the following:\n",
    "* `x` for image input\n",
    "* `y` for labels\n",
    "* `keep_prob` for keep probability for dropout\n",
    "\n",
    "This function will be called for each batch, so `tf.global_variables_initializer()` has already been called.\n",
    "\n",
    "Note: Nothing needs to be returned. This function is only optimizing the neural network."
   ]
  },
  {
   "cell_type": "code",
   "execution_count": 297,
   "metadata": {
    "collapsed": false,
    "deletable": true,
    "editable": true
   },
   "outputs": [
    {
     "name": "stdout",
     "output_type": "stream",
     "text": [
      "Tests Passed\n"
     ]
    }
   ],
   "source": [
    "def train_neural_network(session, optimizer, keep_probability, feature_batch, label_batch):\n",
    "    \"\"\"\n",
    "    Optimize the session on a batch of images and labels\n",
    "    : session: Current TensorFlow session\n",
    "    : optimizer: TensorFlow optimizer function\n",
    "    : keep_probability: keep probability\n",
    "    : feature_batch: Batch of Numpy image data\n",
    "    : label_batch: Batch of Numpy label data\n",
    "    \"\"\"\n",
    "    session.run(optimizer, feed_dict={\n",
    "        keep_prob: keep_probability,\n",
    "        x: feature_batch,\n",
    "        y: label_batch,\n",
    "    })\n",
    "\n",
    "\n",
    "\"\"\"\n",
    "DON'T MODIFY ANYTHING IN THIS CELL THAT IS BELOW THIS LINE\n",
    "\"\"\"\n",
    "tests.test_train_nn(train_neural_network)"
   ]
  },
  {
   "cell_type": "markdown",
   "metadata": {
    "deletable": true,
    "editable": true
   },
   "source": [
    "### Show Stats\n",
    "Implement the function `print_stats` to print loss and validation accuracy.  Use the global variables `valid_features` and `valid_labels` to calculate validation accuracy.  Use a keep probability of `1.0` to calculate the loss and validation accuracy."
   ]
  },
  {
   "cell_type": "code",
   "execution_count": 298,
   "metadata": {
    "collapsed": false,
    "deletable": true,
    "editable": true
   },
   "outputs": [],
   "source": [
    "def print_stats(session, feature_batch, label_batch, cost, accuracy):\n",
    "    \"\"\"\n",
    "    Print information about loss and validation accuracy\n",
    "    : session: Current TensorFlow session\n",
    "    : feature_batch: Batch of Numpy image data\n",
    "    : label_batch: Batch of Numpy label data\n",
    "    : cost: TensorFlow cost function\n",
    "    : accuracy: TensorFlow accuracy function\n",
    "    \"\"\"\n",
    "    loss = session.run(cost, feed_dict={\n",
    "        x: feature_batch,\n",
    "        y: label_batch,\n",
    "        keep_prob: 1,\n",
    "    })\n",
    "    valid_accuracy = session.run(accuracy, feed_dict={\n",
    "        x: valid_features,\n",
    "        y: valid_labels,\n",
    "        keep_prob: 1,\n",
    "    })\n",
    "    print('loss = ', loss)\n",
    "    print('accuracy = ', valid_accuracy)"
   ]
  },
  {
   "cell_type": "markdown",
   "metadata": {
    "deletable": true,
    "editable": true
   },
   "source": [
    "### Hyperparameters\n",
    "Tune the following parameters:\n",
    "* Set `epochs` to the number of iterations until the network stops learning or start overfitting\n",
    "* Set `batch_size` to the highest number that your machine has memory for.  Most people set them to common sizes of memory:\n",
    " * 64\n",
    " * 128\n",
    " * 256\n",
    " * ...\n",
    "* Set `keep_probability` to the probability of keeping a node using dropout"
   ]
  },
  {
   "cell_type": "code",
   "execution_count": 313,
   "metadata": {
    "collapsed": true,
    "deletable": true,
    "editable": true
   },
   "outputs": [],
   "source": [
    "# TODO: Tune Parameters\n",
    "epochs = 50\n",
    "batch_size = 256\n",
    "keep_probability = 0.60"
   ]
  },
  {
   "cell_type": "markdown",
   "metadata": {
    "deletable": true,
    "editable": true
   },
   "source": [
    "### Train on a Single CIFAR-10 Batch\n",
    "Instead of training the neural network on all the CIFAR-10 batches of data, let's use a single batch. This should save time while you iterate on the model to get a better accuracy.  Once the final validation accuracy is 50% or greater, run the model on all the data in the next section."
   ]
  },
  {
   "cell_type": "code",
   "execution_count": 312,
   "metadata": {
    "collapsed": false,
    "deletable": true,
    "editable": true
   },
   "outputs": [
    {
     "name": "stdout",
     "output_type": "stream",
     "text": [
      "Checking the Training on a Single Batch...\n",
      "Epoch  1, CIFAR-10 Batch 1:  loss =  2.23937\n",
      "accuracy =  0.1718\n",
      "Epoch  2, CIFAR-10 Batch 1:  loss =  2.13981\n",
      "accuracy =  0.2738\n",
      "Epoch  3, CIFAR-10 Batch 1:  loss =  2.09304\n",
      "accuracy =  0.2882\n",
      "Epoch  4, CIFAR-10 Batch 1:  loss =  2.04025\n",
      "accuracy =  0.299\n",
      "Epoch  5, CIFAR-10 Batch 1:  loss =  1.99009\n",
      "accuracy =  0.3078\n",
      "Epoch  6, CIFAR-10 Batch 1:  loss =  1.93382\n",
      "accuracy =  0.3182\n",
      "Epoch  7, CIFAR-10 Batch 1:  loss =  1.86886\n",
      "accuracy =  0.3442\n",
      "Epoch  8, CIFAR-10 Batch 1:  loss =  1.78745\n",
      "accuracy =  0.3654\n",
      "Epoch  9, CIFAR-10 Batch 1:  loss =  1.74573\n",
      "accuracy =  0.3742\n",
      "Epoch 10, CIFAR-10 Batch 1:  loss =  1.66412\n",
      "accuracy =  0.3844\n",
      "Epoch 11, CIFAR-10 Batch 1:  loss =  1.62009\n",
      "accuracy =  0.394\n",
      "Epoch 12, CIFAR-10 Batch 1:  loss =  1.58411\n",
      "accuracy =  0.3942\n",
      "Epoch 13, CIFAR-10 Batch 1:  loss =  1.52875\n",
      "accuracy =  0.4026\n",
      "Epoch 14, CIFAR-10 Batch 1:  loss =  1.48526\n",
      "accuracy =  0.4074\n",
      "Epoch 15, CIFAR-10 Batch 1:  loss =  1.40148\n",
      "accuracy =  0.4214\n",
      "Epoch 16, CIFAR-10 Batch 1:  loss =  1.32854\n",
      "accuracy =  0.4286\n",
      "Epoch 17, CIFAR-10 Batch 1:  loss =  1.30795\n",
      "accuracy =  0.4314\n",
      "Epoch 18, CIFAR-10 Batch 1:  loss =  1.26192\n",
      "accuracy =  0.4408\n",
      "Epoch 19, CIFAR-10 Batch 1:  loss =  1.21765\n",
      "accuracy =  0.444\n",
      "Epoch 20, CIFAR-10 Batch 1:  loss =  1.20237\n",
      "accuracy =  0.448\n",
      "Epoch 21, CIFAR-10 Batch 1:  loss =  1.15429\n",
      "accuracy =  0.45\n",
      "Epoch 22, CIFAR-10 Batch 1:  loss =  1.13586\n",
      "accuracy =  0.4472\n",
      "Epoch 23, CIFAR-10 Batch 1:  loss =  1.11074\n",
      "accuracy =  0.447\n",
      "Epoch 24, CIFAR-10 Batch 1:  loss =  1.05718\n",
      "accuracy =  0.4576\n",
      "Epoch 25, CIFAR-10 Batch 1:  loss =  1.03182\n",
      "accuracy =  0.4586\n",
      "Epoch 26, CIFAR-10 Batch 1:  loss =  1.00622\n",
      "accuracy =  0.4602\n",
      "Epoch 27, CIFAR-10 Batch 1:  loss =  0.997843\n",
      "accuracy =  0.458\n",
      "Epoch 28, CIFAR-10 Batch 1:  loss =  0.976278\n",
      "accuracy =  0.452\n",
      "Epoch 29, CIFAR-10 Batch 1:  loss =  0.946429\n",
      "accuracy =  0.4628\n",
      "Epoch 30, CIFAR-10 Batch 1:  loss =  0.924177\n",
      "accuracy =  0.4638\n",
      "Epoch 31, CIFAR-10 Batch 1:  loss =  0.896618\n",
      "accuracy =  0.4658\n",
      "Epoch 32, CIFAR-10 Batch 1:  loss =  0.859794\n",
      "accuracy =  0.463\n",
      "Epoch 33, CIFAR-10 Batch 1:  loss =  0.793993\n",
      "accuracy =  0.4962\n",
      "Epoch 34, CIFAR-10 Batch 1:  loss =  0.734339\n",
      "accuracy =  0.4952\n",
      "Epoch 35, CIFAR-10 Batch 1:  loss =  0.699531\n",
      "accuracy =  0.4904\n",
      "Epoch 36, CIFAR-10 Batch 1:  loss =  0.662132\n",
      "accuracy =  0.5072\n",
      "Epoch 37, CIFAR-10 Batch 1:  loss =  0.634694\n",
      "accuracy =  0.5112\n",
      "Epoch 38, CIFAR-10 Batch 1:  loss =  0.623359\n",
      "accuracy =  0.515\n",
      "Epoch 39, CIFAR-10 Batch 1:  loss =  0.590647\n",
      "accuracy =  0.5142\n",
      "Epoch 40, CIFAR-10 Batch 1:  loss =  0.561087\n",
      "accuracy =  0.5162\n",
      "Epoch 41, CIFAR-10 Batch 1:  loss =  0.55726\n",
      "accuracy =  0.5172\n",
      "Epoch 42, CIFAR-10 Batch 1:  loss =  0.538476\n",
      "accuracy =  0.5222\n",
      "Epoch 43, CIFAR-10 Batch 1:  loss =  0.510762\n",
      "accuracy =  0.5268\n",
      "Epoch 44, CIFAR-10 Batch 1:  loss =  0.51014\n",
      "accuracy =  0.5184\n",
      "Epoch 45, CIFAR-10 Batch 1:  loss =  0.490224\n",
      "accuracy =  0.5154\n",
      "Epoch 46, CIFAR-10 Batch 1:  loss =  0.46762\n",
      "accuracy =  0.5272\n",
      "Epoch 47, CIFAR-10 Batch 1:  loss =  0.456359\n",
      "accuracy =  0.525\n",
      "Epoch 48, CIFAR-10 Batch 1:  loss =  0.450464\n",
      "accuracy =  0.5292\n",
      "Epoch 49, CIFAR-10 Batch 1:  loss =  0.419329\n",
      "accuracy =  0.5226\n",
      "Epoch 50, CIFAR-10 Batch 1:  loss =  0.393264\n",
      "accuracy =  0.528\n"
     ]
    }
   ],
   "source": [
    "\"\"\"\n",
    "DON'T MODIFY ANYTHING IN THIS CELL\n",
    "\"\"\"\n",
    "print('Checking the Training on a Single Batch...')\n",
    "with tf.Session() as sess:\n",
    "    # Initializing the variables\n",
    "    sess.run(tf.global_variables_initializer())\n",
    "    \n",
    "    # Training cycle\n",
    "    for epoch in range(epochs):\n",
    "        batch_i = 1\n",
    "        for batch_features, batch_labels in helper.load_preprocess_training_batch(batch_i, batch_size):\n",
    "            train_neural_network(sess, optimizer, keep_probability, batch_features, batch_labels)\n",
    "        print('Epoch {:>2}, CIFAR-10 Batch {}:  '.format(epoch + 1, batch_i), end='')\n",
    "        print_stats(sess, batch_features, batch_labels, cost, accuracy)"
   ]
  },
  {
   "cell_type": "markdown",
   "metadata": {
    "deletable": true,
    "editable": true
   },
   "source": [
    "### Fully Train the Model\n",
    "Now that you got a good accuracy with a single CIFAR-10 batch, try it with all five batches."
   ]
  },
  {
   "cell_type": "code",
   "execution_count": 314,
   "metadata": {
    "collapsed": false,
    "deletable": true,
    "editable": true
   },
   "outputs": [
    {
     "name": "stdout",
     "output_type": "stream",
     "text": [
      "Training...\n",
      "Epoch  1, CIFAR-10 Batch 1:  loss =  2.23341\n",
      "accuracy =  0.1988\n",
      "Epoch  1, CIFAR-10 Batch 2:  loss =  2.03454\n",
      "accuracy =  0.2762\n",
      "Epoch  1, CIFAR-10 Batch 3:  loss =  1.80011\n",
      "accuracy =  0.3132\n",
      "Epoch  1, CIFAR-10 Batch 4:  loss =  1.83665\n",
      "accuracy =  0.358\n",
      "Epoch  1, CIFAR-10 Batch 5:  loss =  1.85194\n",
      "accuracy =  0.3738\n",
      "Epoch  2, CIFAR-10 Batch 1:  loss =  1.85208\n",
      "accuracy =  0.3902\n",
      "Epoch  2, CIFAR-10 Batch 2:  loss =  1.69941\n",
      "accuracy =  0.393\n",
      "Epoch  2, CIFAR-10 Batch 3:  loss =  1.5068\n",
      "accuracy =  0.3958\n",
      "Epoch  2, CIFAR-10 Batch 4:  loss =  1.62922\n",
      "accuracy =  0.4018\n",
      "Epoch  2, CIFAR-10 Batch 5:  loss =  1.62843\n",
      "accuracy =  0.4264\n",
      "Epoch  3, CIFAR-10 Batch 1:  loss =  1.7859\n",
      "accuracy =  0.4316\n",
      "Epoch  3, CIFAR-10 Batch 2:  loss =  1.56743\n",
      "accuracy =  0.4336\n",
      "Epoch  3, CIFAR-10 Batch 3:  loss =  1.36087\n",
      "accuracy =  0.4238\n",
      "Epoch  3, CIFAR-10 Batch 4:  loss =  1.48917\n",
      "accuracy =  0.4394\n",
      "Epoch  3, CIFAR-10 Batch 5:  loss =  1.50247\n",
      "accuracy =  0.4548\n",
      "Epoch  4, CIFAR-10 Batch 1:  loss =  1.68907\n",
      "accuracy =  0.4674\n",
      "Epoch  4, CIFAR-10 Batch 2:  loss =  1.45347\n",
      "accuracy =  0.4628\n",
      "Epoch  4, CIFAR-10 Batch 3:  loss =  1.26294\n",
      "accuracy =  0.4596\n",
      "Epoch  4, CIFAR-10 Batch 4:  loss =  1.42706\n",
      "accuracy =  0.4672\n",
      "Epoch  4, CIFAR-10 Batch 5:  loss =  1.42957\n",
      "accuracy =  0.4774\n",
      "Epoch  5, CIFAR-10 Batch 1:  loss =  1.58819\n",
      "accuracy =  0.4866\n",
      "Epoch  5, CIFAR-10 Batch 2:  loss =  1.39786\n",
      "accuracy =  0.4842\n",
      "Epoch  5, CIFAR-10 Batch 3:  loss =  1.18225\n",
      "accuracy =  0.4916\n",
      "Epoch  5, CIFAR-10 Batch 4:  loss =  1.35064\n",
      "accuracy =  0.496\n",
      "Epoch  5, CIFAR-10 Batch 5:  loss =  1.34409\n",
      "accuracy =  0.4948\n",
      "Epoch  6, CIFAR-10 Batch 1:  loss =  1.49287\n",
      "accuracy =  0.5096\n",
      "Epoch  6, CIFAR-10 Batch 2:  loss =  1.33553\n",
      "accuracy =  0.4956\n",
      "Epoch  6, CIFAR-10 Batch 3:  loss =  1.08294\n",
      "accuracy =  0.4976\n",
      "Epoch  6, CIFAR-10 Batch 4:  loss =  1.27699\n",
      "accuracy =  0.5098\n",
      "Epoch  6, CIFAR-10 Batch 5:  loss =  1.25722\n",
      "accuracy =  0.507\n",
      "Epoch  7, CIFAR-10 Batch 1:  loss =  1.40337\n",
      "accuracy =  0.5154\n",
      "Epoch  7, CIFAR-10 Batch 2:  loss =  1.27489\n",
      "accuracy =  0.506\n",
      "Epoch  7, CIFAR-10 Batch 3:  loss =  1.01572\n",
      "accuracy =  0.5134\n",
      "Epoch  7, CIFAR-10 Batch 4:  loss =  1.19085\n",
      "accuracy =  0.5148\n",
      "Epoch  7, CIFAR-10 Batch 5:  loss =  1.18257\n",
      "accuracy =  0.5136\n",
      "Epoch  8, CIFAR-10 Batch 1:  loss =  1.32865\n",
      "accuracy =  0.5272\n",
      "Epoch  8, CIFAR-10 Batch 2:  loss =  1.21967\n",
      "accuracy =  0.526\n",
      "Epoch  8, CIFAR-10 Batch 3:  loss =  0.953323\n",
      "accuracy =  0.5232\n",
      "Epoch  8, CIFAR-10 Batch 4:  loss =  1.13964\n",
      "accuracy =  0.527\n",
      "Epoch  8, CIFAR-10 Batch 5:  loss =  1.12043\n",
      "accuracy =  0.5366\n",
      "Epoch  9, CIFAR-10 Batch 1:  loss =  1.24408\n",
      "accuracy =  0.5416\n",
      "Epoch  9, CIFAR-10 Batch 2:  loss =  1.17608\n",
      "accuracy =  0.5248\n",
      "Epoch  9, CIFAR-10 Batch 3:  loss =  0.910896\n",
      "accuracy =  0.5358\n",
      "Epoch  9, CIFAR-10 Batch 4:  loss =  1.10152\n",
      "accuracy =  0.5414\n",
      "Epoch  9, CIFAR-10 Batch 5:  loss =  1.05729\n",
      "accuracy =  0.5454\n",
      "Epoch 10, CIFAR-10 Batch 1:  loss =  1.19917\n",
      "accuracy =  0.5456\n",
      "Epoch 10, CIFAR-10 Batch 2:  loss =  1.11534\n",
      "accuracy =  0.5444\n",
      "Epoch 10, CIFAR-10 Batch 3:  loss =  0.880827\n",
      "accuracy =  0.5412\n",
      "Epoch 10, CIFAR-10 Batch 4:  loss =  1.01469\n",
      "accuracy =  0.5488\n",
      "Epoch 10, CIFAR-10 Batch 5:  loss =  1.01298\n",
      "accuracy =  0.553\n",
      "Epoch 11, CIFAR-10 Batch 1:  loss =  1.12604\n",
      "accuracy =  0.5566\n",
      "Epoch 11, CIFAR-10 Batch 2:  loss =  1.05783\n",
      "accuracy =  0.5514\n",
      "Epoch 11, CIFAR-10 Batch 3:  loss =  0.83216\n",
      "accuracy =  0.5518\n",
      "Epoch 11, CIFAR-10 Batch 4:  loss =  0.976891\n",
      "accuracy =  0.5534\n",
      "Epoch 11, CIFAR-10 Batch 5:  loss =  0.950808\n",
      "accuracy =  0.5586\n",
      "Epoch 12, CIFAR-10 Batch 1:  loss =  1.06486\n",
      "accuracy =  0.5614\n",
      "Epoch 12, CIFAR-10 Batch 2:  loss =  1.03736\n",
      "accuracy =  0.5528\n",
      "Epoch 12, CIFAR-10 Batch 3:  loss =  0.7965\n",
      "accuracy =  0.557\n",
      "Epoch 12, CIFAR-10 Batch 4:  loss =  0.941664\n",
      "accuracy =  0.5616\n",
      "Epoch 12, CIFAR-10 Batch 5:  loss =  0.885426\n",
      "accuracy =  0.5612\n",
      "Epoch 13, CIFAR-10 Batch 1:  loss =  1.03318\n",
      "accuracy =  0.5708\n",
      "Epoch 13, CIFAR-10 Batch 2:  loss =  0.989705\n",
      "accuracy =  0.5546\n",
      "Epoch 13, CIFAR-10 Batch 3:  loss =  0.764027\n",
      "accuracy =  0.5614\n",
      "Epoch 13, CIFAR-10 Batch 4:  loss =  0.890565\n",
      "accuracy =  0.564\n",
      "Epoch 13, CIFAR-10 Batch 5:  loss =  0.84577\n",
      "accuracy =  0.5606\n",
      "Epoch 14, CIFAR-10 Batch 1:  loss =  0.977527\n",
      "accuracy =  0.577\n",
      "Epoch 14, CIFAR-10 Batch 2:  loss =  0.946054\n",
      "accuracy =  0.5598\n",
      "Epoch 14, CIFAR-10 Batch 3:  loss =  0.717832\n",
      "accuracy =  0.5704\n",
      "Epoch 14, CIFAR-10 Batch 4:  loss =  0.871017\n",
      "accuracy =  0.5742\n",
      "Epoch 14, CIFAR-10 Batch 5:  loss =  0.809524\n",
      "accuracy =  0.5774\n",
      "Epoch 15, CIFAR-10 Batch 1:  loss =  0.957554\n",
      "accuracy =  0.5802\n",
      "Epoch 15, CIFAR-10 Batch 2:  loss =  0.912663\n",
      "accuracy =  0.5686\n",
      "Epoch 15, CIFAR-10 Batch 3:  loss =  0.687923\n",
      "accuracy =  0.573\n",
      "Epoch 15, CIFAR-10 Batch 4:  loss =  0.828794\n",
      "accuracy =  0.5786\n",
      "Epoch 15, CIFAR-10 Batch 5:  loss =  0.775484\n",
      "accuracy =  0.5762\n",
      "Epoch 16, CIFAR-10 Batch 1:  loss =  0.912906\n",
      "accuracy =  0.5818\n",
      "Epoch 16, CIFAR-10 Batch 2:  loss =  0.869254\n",
      "accuracy =  0.5744\n",
      "Epoch 16, CIFAR-10 Batch 3:  loss =  0.684527\n",
      "accuracy =  0.5736\n",
      "Epoch 16, CIFAR-10 Batch 4:  loss =  0.793486\n",
      "accuracy =  0.5876\n",
      "Epoch 16, CIFAR-10 Batch 5:  loss =  0.737409\n",
      "accuracy =  0.584\n",
      "Epoch 17, CIFAR-10 Batch 1:  loss =  0.891451\n",
      "accuracy =  0.5914\n",
      "Epoch 17, CIFAR-10 Batch 2:  loss =  0.844409\n",
      "accuracy =  0.576\n",
      "Epoch 17, CIFAR-10 Batch 3:  loss =  0.66367\n",
      "accuracy =  0.5772\n",
      "Epoch 17, CIFAR-10 Batch 4:  loss =  0.742109\n",
      "accuracy =  0.5884\n",
      "Epoch 17, CIFAR-10 Batch 5:  loss =  0.697267\n",
      "accuracy =  0.5852\n",
      "Epoch 18, CIFAR-10 Batch 1:  loss =  0.858874\n",
      "accuracy =  0.5904\n",
      "Epoch 18, CIFAR-10 Batch 2:  loss =  0.811481\n",
      "accuracy =  0.5702\n",
      "Epoch 18, CIFAR-10 Batch 3:  loss =  0.649066\n",
      "accuracy =  0.5812\n",
      "Epoch 18, CIFAR-10 Batch 4:  loss =  0.719821\n",
      "accuracy =  0.5968\n",
      "Epoch 18, CIFAR-10 Batch 5:  loss =  0.698866\n",
      "accuracy =  0.5876\n",
      "Epoch 19, CIFAR-10 Batch 1:  loss =  0.835802\n",
      "accuracy =  0.594\n",
      "Epoch 19, CIFAR-10 Batch 2:  loss =  0.765725\n",
      "accuracy =  0.5848\n",
      "Epoch 19, CIFAR-10 Batch 3:  loss =  0.618598\n",
      "accuracy =  0.584\n",
      "Epoch 19, CIFAR-10 Batch 4:  loss =  0.684542\n",
      "accuracy =  0.595\n",
      "Epoch 19, CIFAR-10 Batch 5:  loss =  0.665563\n",
      "accuracy =  0.588\n",
      "Epoch 20, CIFAR-10 Batch 1:  loss =  0.81402\n",
      "accuracy =  0.601\n",
      "Epoch 20, CIFAR-10 Batch 2:  loss =  0.727406\n",
      "accuracy =  0.592\n",
      "Epoch 20, CIFAR-10 Batch 3:  loss =  0.571123\n",
      "accuracy =  0.5878\n",
      "Epoch 20, CIFAR-10 Batch 4:  loss =  0.663449\n",
      "accuracy =  0.5994\n",
      "Epoch 20, CIFAR-10 Batch 5:  loss =  0.653789\n",
      "accuracy =  0.5902\n",
      "Epoch 21, CIFAR-10 Batch 1:  loss =  0.811601\n",
      "accuracy =  0.6018\n",
      "Epoch 21, CIFAR-10 Batch 2:  loss =  0.676733\n",
      "accuracy =  0.5888\n",
      "Epoch 21, CIFAR-10 Batch 3:  loss =  0.556989\n",
      "accuracy =  0.588\n",
      "Epoch 21, CIFAR-10 Batch 4:  loss =  0.617526\n",
      "accuracy =  0.6026\n",
      "Epoch 21, CIFAR-10 Batch 5:  loss =  0.619982\n",
      "accuracy =  0.5988\n",
      "Epoch 22, CIFAR-10 Batch 1:  loss =  0.763117\n",
      "accuracy =  0.5984\n",
      "Epoch 22, CIFAR-10 Batch 2:  loss =  0.648836\n",
      "accuracy =  0.598\n",
      "Epoch 22, CIFAR-10 Batch 3:  loss =  0.541273\n",
      "accuracy =  0.5938\n",
      "Epoch 22, CIFAR-10 Batch 4:  loss =  0.58592\n",
      "accuracy =  0.5964\n",
      "Epoch 22, CIFAR-10 Batch 5:  loss =  0.612635\n",
      "accuracy =  0.6014\n",
      "Epoch 23, CIFAR-10 Batch 1:  loss =  0.737859\n",
      "accuracy =  0.6018\n",
      "Epoch 23, CIFAR-10 Batch 2:  loss =  0.675779\n",
      "accuracy =  0.5982\n",
      "Epoch 23, CIFAR-10 Batch 3:  loss =  0.51457\n",
      "accuracy =  0.592\n",
      "Epoch 23, CIFAR-10 Batch 4:  loss =  0.576072\n",
      "accuracy =  0.598\n",
      "Epoch 23, CIFAR-10 Batch 5:  loss =  0.590671\n",
      "accuracy =  0.6076\n",
      "Epoch 24, CIFAR-10 Batch 1:  loss =  0.714619\n",
      "accuracy =  0.603\n",
      "Epoch 24, CIFAR-10 Batch 2:  loss =  0.629546\n",
      "accuracy =  0.6022\n",
      "Epoch 24, CIFAR-10 Batch 3:  loss =  0.472564\n",
      "accuracy =  0.5918\n",
      "Epoch 24, CIFAR-10 Batch 4:  loss =  0.546711\n",
      "accuracy =  0.594\n",
      "Epoch 24, CIFAR-10 Batch 5:  loss =  0.568386\n",
      "accuracy =  0.6068\n",
      "Epoch 25, CIFAR-10 Batch 1:  loss =  0.737733\n",
      "accuracy =  0.6046\n",
      "Epoch 25, CIFAR-10 Batch 2:  loss =  0.608018\n",
      "accuracy =  0.6038\n",
      "Epoch 25, CIFAR-10 Batch 3:  loss =  0.472755\n",
      "accuracy =  0.5944\n",
      "Epoch 25, CIFAR-10 Batch 4:  loss =  0.526736\n",
      "accuracy =  0.5986\n",
      "Epoch 25, CIFAR-10 Batch 5:  loss =  0.561564\n",
      "accuracy =  0.606\n",
      "Epoch 26, CIFAR-10 Batch 1:  loss =  0.730289\n",
      "accuracy =  0.5984\n",
      "Epoch 26, CIFAR-10 Batch 2:  loss =  0.594419\n",
      "accuracy =  0.6028\n",
      "Epoch 26, CIFAR-10 Batch 3:  loss =  0.463303\n",
      "accuracy =  0.6022\n",
      "Epoch 26, CIFAR-10 Batch 4:  loss =  0.519156\n",
      "accuracy =  0.604\n",
      "Epoch 26, CIFAR-10 Batch 5:  loss =  0.520162\n",
      "accuracy =  0.6104\n",
      "Epoch 27, CIFAR-10 Batch 1:  loss =  0.677907\n",
      "accuracy =  0.61\n",
      "Epoch 27, CIFAR-10 Batch 2:  loss =  0.554486\n",
      "accuracy =  0.6082\n",
      "Epoch 27, CIFAR-10 Batch 3:  loss =  0.446155\n",
      "accuracy =  0.5994\n",
      "Epoch 27, CIFAR-10 Batch 4:  loss =  0.4933\n",
      "accuracy =  0.608\n",
      "Epoch 27, CIFAR-10 Batch 5:  loss =  0.500829\n",
      "accuracy =  0.6094\n",
      "Epoch 28, CIFAR-10 Batch 1:  loss =  0.641328\n",
      "accuracy =  0.6096\n",
      "Epoch 28, CIFAR-10 Batch 2:  loss =  0.528363\n",
      "accuracy =  0.6116\n",
      "Epoch 28, CIFAR-10 Batch 3:  loss =  0.431169\n",
      "accuracy =  0.6028\n",
      "Epoch 28, CIFAR-10 Batch 4:  loss =  0.465972\n",
      "accuracy =  0.6096\n",
      "Epoch 28, CIFAR-10 Batch 5:  loss =  0.493493\n",
      "accuracy =  0.6088\n",
      "Epoch 29, CIFAR-10 Batch 1:  loss =  0.634468\n",
      "accuracy =  0.606\n",
      "Epoch 29, CIFAR-10 Batch 2:  loss =  0.507171\n",
      "accuracy =  0.6112\n",
      "Epoch 29, CIFAR-10 Batch 3:  loss =  0.419688\n",
      "accuracy =  0.6018\n",
      "Epoch 29, CIFAR-10 Batch 4:  loss =  0.459521\n",
      "accuracy =  0.614\n",
      "Epoch 29, CIFAR-10 Batch 5:  loss =  0.481097\n",
      "accuracy =  0.612\n",
      "Epoch 30, CIFAR-10 Batch 1:  loss =  0.6151\n",
      "accuracy =  0.6126\n",
      "Epoch 30, CIFAR-10 Batch 2:  loss =  0.541005\n",
      "accuracy =  0.6132\n",
      "Epoch 30, CIFAR-10 Batch 3:  loss =  0.405627\n",
      "accuracy =  0.6112\n",
      "Epoch 30, CIFAR-10 Batch 4:  loss =  0.441671\n",
      "accuracy =  0.6134\n",
      "Epoch 30, CIFAR-10 Batch 5:  loss =  0.46845\n",
      "accuracy =  0.6094\n",
      "Epoch 31, CIFAR-10 Batch 1:  loss =  0.604319\n",
      "accuracy =  0.6106\n",
      "Epoch 31, CIFAR-10 Batch 2:  loss =  0.482551\n",
      "accuracy =  0.6152\n",
      "Epoch 31, CIFAR-10 Batch 3:  loss =  0.398567\n",
      "accuracy =  0.6104\n",
      "Epoch 31, CIFAR-10 Batch 4:  loss =  0.417716\n",
      "accuracy =  0.6176\n",
      "Epoch 31, CIFAR-10 Batch 5:  loss =  0.437397\n",
      "accuracy =  0.6116\n",
      "Epoch 32, CIFAR-10 Batch 1:  loss =  0.58104\n",
      "accuracy =  0.6184\n",
      "Epoch 32, CIFAR-10 Batch 2:  loss =  0.47579\n",
      "accuracy =  0.6144\n",
      "Epoch 32, CIFAR-10 Batch 3:  loss =  0.36355\n",
      "accuracy =  0.6136\n",
      "Epoch 32, CIFAR-10 Batch 4:  loss =  0.400229\n",
      "accuracy =  0.6162\n",
      "Epoch 32, CIFAR-10 Batch 5:  loss =  0.438097\n",
      "accuracy =  0.6178\n",
      "Epoch 33, CIFAR-10 Batch 1:  loss =  0.563828\n",
      "accuracy =  0.6182\n",
      "Epoch 33, CIFAR-10 Batch 2:  loss =  0.454163\n",
      "accuracy =  0.6104\n",
      "Epoch 33, CIFAR-10 Batch 3:  loss =  0.354151\n",
      "accuracy =  0.6164\n",
      "Epoch 33, CIFAR-10 Batch 4:  loss =  0.387067\n",
      "accuracy =  0.6168\n",
      "Epoch 33, CIFAR-10 Batch 5:  loss =  0.420863\n",
      "accuracy =  0.6182\n",
      "Epoch 34, CIFAR-10 Batch 1:  loss =  0.537386\n",
      "accuracy =  0.6206\n",
      "Epoch 34, CIFAR-10 Batch 2:  loss =  0.463438\n",
      "accuracy =  0.6136\n",
      "Epoch 34, CIFAR-10 Batch 3:  loss =  0.34456\n",
      "accuracy =  0.6084\n",
      "Epoch 34, CIFAR-10 Batch 4:  loss =  0.394649\n",
      "accuracy =  0.6182\n",
      "Epoch 34, CIFAR-10 Batch 5:  loss =  0.411568\n",
      "accuracy =  0.6206\n",
      "Epoch 35, CIFAR-10 Batch 1:  loss =  0.518638\n",
      "accuracy =  0.6234\n",
      "Epoch 35, CIFAR-10 Batch 2:  loss =  0.441316\n",
      "accuracy =  0.6156\n",
      "Epoch 35, CIFAR-10 Batch 3:  loss =  0.341252\n",
      "accuracy =  0.6128\n",
      "Epoch 35, CIFAR-10 Batch 4:  loss =  0.368206\n",
      "accuracy =  0.616\n",
      "Epoch 35, CIFAR-10 Batch 5:  loss =  0.376234\n",
      "accuracy =  0.6168\n",
      "Epoch 36, CIFAR-10 Batch 1:  loss =  0.51133\n",
      "accuracy =  0.6224\n",
      "Epoch 36, CIFAR-10 Batch 2:  loss =  0.414814\n",
      "accuracy =  0.6166\n",
      "Epoch 36, CIFAR-10 Batch 3:  loss =  0.305779\n",
      "accuracy =  0.6138\n",
      "Epoch 36, CIFAR-10 Batch 4:  loss =  0.369749\n",
      "accuracy =  0.6234\n",
      "Epoch 36, CIFAR-10 Batch 5:  loss =  0.374153\n",
      "accuracy =  0.6208\n",
      "Epoch 37, CIFAR-10 Batch 1:  loss =  0.497533\n",
      "accuracy =  0.6174\n",
      "Epoch 37, CIFAR-10 Batch 2:  loss =  0.399159\n",
      "accuracy =  0.6162\n",
      "Epoch 37, CIFAR-10 Batch 3:  loss =  0.319353\n",
      "accuracy =  0.6226\n",
      "Epoch 37, CIFAR-10 Batch 4:  loss =  0.358376\n",
      "accuracy =  0.6238\n",
      "Epoch 37, CIFAR-10 Batch 5:  loss =  0.390283\n",
      "accuracy =  0.6208\n",
      "Epoch 38, CIFAR-10 Batch 1:  loss =  0.484958\n",
      "accuracy =  0.62\n",
      "Epoch 38, CIFAR-10 Batch 2:  loss =  0.383897\n",
      "accuracy =  0.6172\n",
      "Epoch 38, CIFAR-10 Batch 3:  loss =  0.292404\n",
      "accuracy =  0.6198\n",
      "Epoch 38, CIFAR-10 Batch 4:  loss =  0.334801\n",
      "accuracy =  0.624\n",
      "Epoch 38, CIFAR-10 Batch 5:  loss =  0.357442\n",
      "accuracy =  0.626\n",
      "Epoch 39, CIFAR-10 Batch 1:  loss =  0.470881\n",
      "accuracy =  0.625\n",
      "Epoch 39, CIFAR-10 Batch 2:  loss =  0.363889\n",
      "accuracy =  0.6178\n",
      "Epoch 39, CIFAR-10 Batch 3:  loss =  0.295809\n",
      "accuracy =  0.6212\n",
      "Epoch 39, CIFAR-10 Batch 4:  loss =  0.317361\n",
      "accuracy =  0.6272\n",
      "Epoch 39, CIFAR-10 Batch 5:  loss =  0.351004\n",
      "accuracy =  0.6264\n",
      "Epoch 40, CIFAR-10 Batch 1:  loss =  0.441902\n",
      "accuracy =  0.6208\n",
      "Epoch 40, CIFAR-10 Batch 2:  loss =  0.367012\n",
      "accuracy =  0.6136\n",
      "Epoch 40, CIFAR-10 Batch 3:  loss =  0.285409\n",
      "accuracy =  0.622\n",
      "Epoch 40, CIFAR-10 Batch 4:  loss =  0.301256\n",
      "accuracy =  0.6268\n",
      "Epoch 40, CIFAR-10 Batch 5:  loss =  0.325771\n",
      "accuracy =  0.6266\n",
      "Epoch 41, CIFAR-10 Batch 1:  loss =  0.435426\n",
      "accuracy =  0.624\n",
      "Epoch 41, CIFAR-10 Batch 2:  loss =  0.337726\n",
      "accuracy =  0.6188\n",
      "Epoch 41, CIFAR-10 Batch 3:  loss =  0.283058\n",
      "accuracy =  0.6256\n",
      "Epoch 41, CIFAR-10 Batch 4:  loss =  0.313439\n",
      "accuracy =  0.627\n",
      "Epoch 41, CIFAR-10 Batch 5:  loss =  0.319442\n",
      "accuracy =  0.6238\n",
      "Epoch 42, CIFAR-10 Batch 1:  loss =  0.424879\n",
      "accuracy =  0.6216\n",
      "Epoch 42, CIFAR-10 Batch 2:  loss =  0.328807\n",
      "accuracy =  0.6254\n",
      "Epoch 42, CIFAR-10 Batch 3:  loss =  0.26348\n",
      "accuracy =  0.626\n",
      "Epoch 42, CIFAR-10 Batch 4:  loss =  0.297182\n",
      "accuracy =  0.627\n",
      "Epoch 42, CIFAR-10 Batch 5:  loss =  0.304085\n",
      "accuracy =  0.6264\n",
      "Epoch 43, CIFAR-10 Batch 1:  loss =  0.423621\n",
      "accuracy =  0.6254\n",
      "Epoch 43, CIFAR-10 Batch 2:  loss =  0.335699\n",
      "accuracy =  0.6182\n",
      "Epoch 43, CIFAR-10 Batch 3:  loss =  0.274933\n",
      "accuracy =  0.6212\n",
      "Epoch 43, CIFAR-10 Batch 4:  loss =  0.293125\n",
      "accuracy =  0.6262\n",
      "Epoch 43, CIFAR-10 Batch 5:  loss =  0.304155\n",
      "accuracy =  0.6276\n",
      "Epoch 44, CIFAR-10 Batch 1:  loss =  0.411517\n",
      "accuracy =  0.6324\n",
      "Epoch 44, CIFAR-10 Batch 2:  loss =  0.342317\n",
      "accuracy =  0.6246\n",
      "Epoch 44, CIFAR-10 Batch 3:  loss =  0.259656\n",
      "accuracy =  0.628\n",
      "Epoch 44, CIFAR-10 Batch 4:  loss =  0.283132\n",
      "accuracy =  0.629\n",
      "Epoch 44, CIFAR-10 Batch 5:  loss =  0.297664\n",
      "accuracy =  0.6226\n",
      "Epoch 45, CIFAR-10 Batch 1:  loss =  0.391702\n",
      "accuracy =  0.6332\n",
      "Epoch 45, CIFAR-10 Batch 2:  loss =  0.316512\n",
      "accuracy =  0.6242\n",
      "Epoch 45, CIFAR-10 Batch 3:  loss =  0.26187\n",
      "accuracy =  0.629\n",
      "Epoch 45, CIFAR-10 Batch 4:  loss =  0.286437\n",
      "accuracy =  0.6324\n",
      "Epoch 45, CIFAR-10 Batch 5:  loss =  0.289917\n",
      "accuracy =  0.6246\n",
      "Epoch 46, CIFAR-10 Batch 1:  loss =  0.389852\n",
      "accuracy =  0.6272\n",
      "Epoch 46, CIFAR-10 Batch 2:  loss =  0.294551\n",
      "accuracy =  0.6268\n",
      "Epoch 46, CIFAR-10 Batch 3:  loss =  0.243596\n",
      "accuracy =  0.6266\n",
      "Epoch 46, CIFAR-10 Batch 4:  loss =  0.26657\n",
      "accuracy =  0.631\n",
      "Epoch 46, CIFAR-10 Batch 5:  loss =  0.286849\n",
      "accuracy =  0.6246\n",
      "Epoch 47, CIFAR-10 Batch 1:  loss =  0.373574\n",
      "accuracy =  0.6294\n",
      "Epoch 47, CIFAR-10 Batch 2:  loss =  0.283829\n",
      "accuracy =  0.6258\n",
      "Epoch 47, CIFAR-10 Batch 3:  loss =  0.245607\n",
      "accuracy =  0.63\n",
      "Epoch 47, CIFAR-10 Batch 4:  loss =  0.280959\n",
      "accuracy =  0.6336\n",
      "Epoch 47, CIFAR-10 Batch 5:  loss =  0.276377\n",
      "accuracy =  0.6338\n",
      "Epoch 48, CIFAR-10 Batch 1:  loss =  0.352774\n",
      "accuracy =  0.6312\n",
      "Epoch 48, CIFAR-10 Batch 2:  loss =  0.27714\n",
      "accuracy =  0.63\n",
      "Epoch 48, CIFAR-10 Batch 3:  loss =  0.241677\n",
      "accuracy =  0.6258\n",
      "Epoch 48, CIFAR-10 Batch 4:  loss =  0.275006\n",
      "accuracy =  0.6308\n",
      "Epoch 48, CIFAR-10 Batch 5:  loss =  0.255668\n",
      "accuracy =  0.6338\n",
      "Epoch 49, CIFAR-10 Batch 1:  loss =  0.365218\n",
      "accuracy =  0.6336\n",
      "Epoch 49, CIFAR-10 Batch 2:  loss =  0.287254\n",
      "accuracy =  0.6304\n",
      "Epoch 49, CIFAR-10 Batch 3:  loss =  0.219714\n",
      "accuracy =  0.627\n",
      "Epoch 49, CIFAR-10 Batch 4:  loss =  0.247346\n",
      "accuracy =  0.6286\n",
      "Epoch 49, CIFAR-10 Batch 5:  loss =  0.246543\n",
      "accuracy =  0.6386\n",
      "Epoch 50, CIFAR-10 Batch 1:  loss =  0.340531\n",
      "accuracy =  0.633\n",
      "Epoch 50, CIFAR-10 Batch 2:  loss =  0.271634\n",
      "accuracy =  0.6358\n",
      "Epoch 50, CIFAR-10 Batch 3:  loss =  0.215001\n",
      "accuracy =  0.6294\n",
      "Epoch 50, CIFAR-10 Batch 4:  loss =  0.257704\n",
      "accuracy =  0.629\n",
      "Epoch 50, CIFAR-10 Batch 5:  loss =  0.244764\n",
      "accuracy =  0.6306\n"
     ]
    }
   ],
   "source": [
    "\"\"\"\n",
    "DON'T MODIFY ANYTHING IN THIS CELL\n",
    "\"\"\"\n",
    "save_model_path = './image_classification'\n",
    "\n",
    "print('Training...')\n",
    "with tf.Session() as sess:\n",
    "    # Initializing the variables\n",
    "    sess.run(tf.global_variables_initializer())\n",
    "    \n",
    "    # Training cycle\n",
    "    for epoch in range(epochs):\n",
    "        # Loop over all batches\n",
    "        n_batches = 5\n",
    "        for batch_i in range(1, n_batches + 1):\n",
    "            for batch_features, batch_labels in helper.load_preprocess_training_batch(batch_i, batch_size):\n",
    "                train_neural_network(sess, optimizer, keep_probability, batch_features, batch_labels)\n",
    "            print('Epoch {:>2}, CIFAR-10 Batch {}:  '.format(epoch + 1, batch_i), end='')\n",
    "            print_stats(sess, batch_features, batch_labels, cost, accuracy)\n",
    "            \n",
    "    # Save Model\n",
    "    saver = tf.train.Saver()\n",
    "    save_path = saver.save(sess, save_model_path)"
   ]
  },
  {
   "cell_type": "markdown",
   "metadata": {
    "deletable": true,
    "editable": true
   },
   "source": [
    "# Checkpoint\n",
    "The model has been saved to disk.\n",
    "## Test Model\n",
    "Test your model against the test dataset.  This will be your final accuracy. You should have an accuracy greater than 50%. If you don't, keep tweaking the model architecture and parameters."
   ]
  },
  {
   "cell_type": "code",
   "execution_count": 315,
   "metadata": {
    "collapsed": false,
    "deletable": true,
    "editable": true
   },
   "outputs": [
    {
     "name": "stdout",
     "output_type": "stream",
     "text": [
      "Testing Accuracy: 0.62470703125\n",
      "\n"
     ]
    },
    {
     "data": {
      "image/png": "[encoded data removed]",
      "text/plain": [
       "<matplotlib.figure.Figure at 0x7feb2adaacf8>"
      ]
     },
     "metadata": {
      "image/png": {
       "height": 319,
       "width": 355
      }
     },
     "output_type": "display_data"
    }
   ],
   "source": [
    "\"\"\"\n",
    "DON'T MODIFY ANYTHING IN THIS CELL\n",
    "\"\"\"\n",
    "%matplotlib inline\n",
    "%config InlineBackend.figure_format = 'retina'\n",
    "\n",
    "import tensorflow as tf\n",
    "import pickle\n",
    "import helper\n",
    "import random\n",
    "\n",
    "# Set batch size if not already set\n",
    "try:\n",
    "    if batch_size:\n",
    "        pass\n",
    "except NameError:\n",
    "    batch_size = 64\n",
    "\n",
    "save_model_path = './image_classification'\n",
    "n_samples = 4\n",
    "top_n_predictions = 3\n",
    "\n",
    "def test_model():\n",
    "    \"\"\"\n",
    "    Test the saved model against the test dataset\n",
    "    \"\"\"\n",
    "\n",
    "    test_features, test_labels = pickle.load(open('preprocess_training.p', mode='rb'))\n",
    "    loaded_graph = tf.Graph()\n",
    "\n",
    "    with tf.Session(graph=loaded_graph) as sess:\n",
    "        # Load model\n",
    "        loader = tf.train.import_meta_graph(save_model_path + '.meta')\n",
    "        loader.restore(sess, save_model_path)\n",
    "\n",
    "        # Get Tensors from loaded model\n",
    "        loaded_x = loaded_graph.get_tensor_by_name('x:0')\n",
    "        loaded_y = loaded_graph.get_tensor_by_name('y:0')\n",
    "        loaded_keep_prob = loaded_graph.get_tensor_by_name('keep_prob:0')\n",
    "        loaded_logits = loaded_graph.get_tensor_by_name('logits:0')\n",
    "        loaded_acc = loaded_graph.get_tensor_by_name('accuracy:0')\n",
    "        \n",
    "        # Get accuracy in batches for memory limitations\n",
    "        test_batch_acc_total = 0\n",
    "        test_batch_count = 0\n",
    "        \n",
    "        for train_feature_batch, train_label_batch in helper.batch_features_labels(test_features, test_labels, batch_size):\n",
    "            test_batch_acc_total += sess.run(\n",
    "                loaded_acc,\n",
    "                feed_dict={loaded_x: train_feature_batch, loaded_y: train_label_batch, loaded_keep_prob: 1.0})\n",
    "            test_batch_count += 1\n",
    "\n",
    "        print('Testing Accuracy: {}\\n'.format(test_batch_acc_total/test_batch_count))\n",
    "\n",
    "        # Print Random Samples\n",
    "        random_test_features, random_test_labels = tuple(zip(*random.sample(list(zip(test_features, test_labels)), n_samples)))\n",
    "        random_test_predictions = sess.run(\n",
    "            tf.nn.top_k(tf.nn.softmax(loaded_logits), top_n_predictions),\n",
    "            feed_dict={loaded_x: random_test_features, loaded_y: random_test_labels, loaded_keep_prob: 1.0})\n",
    "        helper.display_image_predictions(random_test_features, random_test_labels, random_test_predictions)\n",
    "\n",
    "\n",
    "test_model()"
   ]
  },
  {
   "cell_type": "markdown",
   "metadata": {
    "deletable": true,
    "editable": true
   },
   "source": [
    "## Why 50-70% Accuracy?\n",
    "You might be wondering why you can't get an accuracy any higher. First things first, 50% isn't bad for a simple CNN.  Pure guessing would get you 10% accuracy. However, you might notice people are getting scores [well above 70%](http://rodrigob.github.io/are_we_there_yet/build/classification_datasets_results.html#43494641522d3130).  That's because we haven't taught you all there is to know about neural networks. We still need to cover a few more techniques.\n",
    "## Submitting This Project\n",
    "When submitting this project, make sure to run all the cells before saving the notebook.  Save the notebook file as \"dlnd_image_classification.ipynb\" and save it as a HTML file under \"File\" -> \"Download as\".  Include the \"helper.py\" and \"problem_unittests.py\" files in your submission."
   ]
  },
  {
   "cell_type": "code",
   "execution_count": null,
   "metadata": {
    "collapsed": true
   },
   "outputs": [],
   "source": []
  }
 ],
 "metadata": {
  "kernelspec": {
   "display_name": "Python 3",
   "language": "python",
   "name": "python3"
  },
  "language_info": {
   "codemirror_mode": {
    "name": "ipython",
    "version": 3
   },
   "file_extension": ".py",
   "mimetype": "text/x-python",
   "name": "python",
   "nbconvert_exporter": "python",
   "pygments_lexer": "ipython3",
   "version": "3.6.0"
  }
 },
 "nbformat": 4,
 "nbformat_minor": 0
}
